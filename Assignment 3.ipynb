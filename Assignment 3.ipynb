{
 "cells": [
  {
   "cell_type": "code",
   "execution_count": 1,
   "id": "40a01417",
   "metadata": {},
   "outputs": [
    {
     "name": "stdout",
     "output_type": "stream",
     "text": [
      "Answer No 1:\n",
      "\n",
      "Twinkle, twinkle, little star,\n",
      "         How I wonder what you are!\n",
      "               Up above the world so high,\n",
      "               Like a diamond in the sky.\n",
      "Twinkle, twinkle, little star,\n",
      "         How I wonder what you are\n"
     ]
    }
   ],
   "source": [
    "'''1) Question No 1:\n",
    "      Write a Python program to print the following string in a specific format (see the output).\n",
    "       Twinkle, twinkle, little star,\n",
    "        How I wonder what you are!\n",
    "                          Up above the world so high,\n",
    "                          Like a diamond in the sky.\n",
    "         Twinkle, twinkle, little star,\n",
    "                  How I wonder what you are'''\n",
    "\n",
    "print(\"Answer No 1:\\n\")\n",
    "\n",
    "\n",
    "a =\"Twinkle, twinkle, little star,\"\n",
    "b =\"\\n         How I wonder what you are!\"\n",
    "c =\"\\n               Up above the world so high,\"\n",
    "d =\"\\n               Like a diamond in the sky.\"\n",
    "e =\"\\nTwinkle, twinkle, little star,\"\n",
    "f =\"\\n         How I wonder what you are\"\n",
    "        \n",
    "print(a + b + c + d + e + f)"
   ]
  },
  {
   "cell_type": "code",
   "execution_count": 2,
   "id": "b3c4565c",
   "metadata": {},
   "outputs": [
    {
     "name": "stdout",
     "output_type": "stream",
     "text": [
      "Answer No 2:\n",
      "\n",
      "Python Version: 3.8.8 (default, Apr 13 2021, 15:08:03) [MSC v.1916 64 bit (AMD64)]\n"
     ]
    }
   ],
   "source": [
    "'''2) Question No 2:\n",
    "      Write a Python program to display the current date and time.'''\n",
    "\n",
    "print(\"Answer No 2:\\n\")\n",
    "\n",
    "import sys\n",
    "print(\"Python Version: \" +sys.version )"
   ]
  },
  {
   "cell_type": "code",
   "execution_count": 3,
   "id": "8f23713b",
   "metadata": {},
   "outputs": [
    {
     "name": "stdout",
     "output_type": "stream",
     "text": [
      "Answer No 3:\n",
      "\n",
      "24-10-21\n",
      "14:48:22\n"
     ]
    }
   ],
   "source": [
    "'''3) Question No 3:\n",
    "      Write a Python program to display the current date and time.'''\n",
    "\n",
    "print(\"Answer No 3:\\n\")\n",
    "\n",
    "import datetime \n",
    "now = datetime.datetime.now()\n",
    "print(now.strftime(\"%d-%m-%y\\n%H:%M:%S\"))"
   ]
  },
  {
   "cell_type": "code",
   "execution_count": 6,
   "id": "3284eeb1",
   "metadata": {},
   "outputs": [
    {
     "name": "stdout",
     "output_type": "stream",
     "text": [
      "Answer No 4:\n",
      "\n",
      "Radius of the circle: 50\n",
      "Area of the Circle= 7853.974999999999\n"
     ]
    }
   ],
   "source": [
    "'''4) Question No 4:\n",
    "      Write a Python program which accepts the radius of a circle from the user and compute the area.'''\n",
    "\n",
    "print(\"Answer No 4:\\n\")\n",
    "\n",
    "r = input(\"Radius of the circle: \")\n",
    "a = 3.14159 * int(r)**2\n",
    "print(\"Area of the Circle= \" + str(a))"
   ]
  },
  {
   "cell_type": "code",
   "execution_count": 7,
   "id": "200c8b08",
   "metadata": {},
   "outputs": [
    {
     "name": "stdout",
     "output_type": "stream",
     "text": [
      "Answer No 5:\n",
      "\n",
      "First Name: Ahmed \n",
      "Last Name: Raza\n",
      "Hello Raza Ahmed \n"
     ]
    }
   ],
   "source": [
    "'''5) Question No 5:\n",
    "      Write a Python program which accepts the user's first and last name and print them in reverse order with a space between them.'''\n",
    "\n",
    "print(\"Answer No 5:\\n\")\n",
    "\n",
    "x = input(\"First Name: \")\n",
    "y = input(\"Last Name: \")\n",
    "print(\"Hello\"+ \" \" + str(y)+ \" \" +str(x)) "
   ]
  },
  {
   "cell_type": "code",
   "execution_count": 8,
   "id": "2c070fec",
   "metadata": {},
   "outputs": [
    {
     "name": "stdout",
     "output_type": "stream",
     "text": [
      "Answer No 6:\n",
      "\n",
      "Gross Salary: 12000\n",
      "Medical Allowance: 1200\n",
      "Net Salary = 13200\n"
     ]
    }
   ],
   "source": [
    "'''6) Question No 6: \n",
    "      Write a python program which takes two inputs from user and print them addition'''\n",
    "\n",
    "print(\"Answer No 6:\\n\")\n",
    "\n",
    "x = input(\"Gross Salary: \")\n",
    "y = input(\"Medical Allowance: \")\n",
    "z = int(x)+int(y)\n",
    "print(\"Net Salary = \" + str(z))"
   ]
  },
  {
   "cell_type": "code",
   "execution_count": 12,
   "id": "99ac3594",
   "metadata": {},
   "outputs": [
    {
     "name": "stdout",
     "output_type": "stream",
     "text": [
      "Answer No 7:\n",
      "\n",
      ">>>>>>>>>>>>>>>>>>>>MarkSheet<<<<<<<<<<<<<<<<<<<<<<\n",
      "\n",
      "Student Details:\n",
      "     Muhammad Salman\n",
      "     I.D = 0001\n",
      "     Total Paper: 500 Marks\n",
      "-------------------------\n",
      "\n",
      "Obtaining Marks\n",
      "------------------\n",
      "\n",
      "English Obtaining Marks: 80\n",
      "Islamiyat Obtaining Marks: 80\n",
      "Math Obtaining Marks: 80\n",
      "Chemistry Obtaining Marks: 80\n",
      "Urdu Obtaining Marks: 80\n",
      "\n",
      "Result\n",
      "--------------------\n",
      "Obtaining Marks: 400\n",
      "Marks in Percentage:  80\n",
      "Grade A+\n"
     ]
    }
   ],
   "source": [
    "'''7) Question No 7: \n",
    "      Write a program which takes 5 inputs from user for different subject’s marks, total it and generate mark sheet using grades ?'''\n",
    "\n",
    "\n",
    "print(\"Answer No 7:\\n\")\n",
    "\n",
    "print(\">>>>>>>>>>>>>>>>>>>>MarkSheet<<<<<<<<<<<<<<<<<<<<<<\\n\")\n",
    "\n",
    "print(\"Student Details:\\n\"+\"     Muhammad Salman\")\n",
    "print(\"     I.D = 0001\")\n",
    "print(\"     Total Paper: 500 Marks\")\n",
    "print(\"-------------------------\\n\")\n",
    "\n",
    "\n",
    "totalpaper = 500\n",
    "\n",
    "print(\"Obtaining Marks\\n\"+\"------------------\\n\")\n",
    "Eng = input(\"English Obtaining Marks: \");\n",
    "Isl = input(\"Islamiyat Obtaining Marks: \");\n",
    "Mat = input(\"Math Obtaining Marks: \");\n",
    "Chem = input(\"Chemistry Obtaining Marks: \");\n",
    "Urd = input(\"Urdu Obtaining Marks: \");\n",
    "total = int(Eng) + int(Isl) + int(Mat) + int(Chem) + int(Urd)\n",
    "\n",
    "print(\"\\nResult\\n\"+\"--------------------\\n\"+\"Obtaining Marks: \" + str(total)) \n",
    "\n",
    "\n",
    "percent = total / totalpaper * 100;\n",
    "print(\"Marks in Percentage: \", int(percent))\n",
    "if percent >= 80 and percent <= 100:\n",
    "    print(\"Grade A+\");\n",
    "elif percent >= 70 and percent <= 80:\n",
    "    print(\"Grade A\");\n",
    "elif percent >= 60 and percent <= 70:\n",
    "    print(\"Grade B\")\n",
    "elif percent >= 50 and percent <= 60:\n",
    "    print(\"Grade C\")\n",
    "elif percent >= 40 and percent <= 50:\n",
    "    print(\"Grade D\")\n",
    "elif percent >= 33 and percent <= 40:\n",
    "    print(\"Grade E\")  \n",
    "elif percent < 33 and percent >=0:\n",
    "    print(\"Fail\")  \n",
    "else:\n",
    "    print(\"Err0r - total Marks Should In Between 0-300\")"
   ]
  },
  {
   "cell_type": "code",
   "execution_count": 16,
   "id": "3476762d",
   "metadata": {},
   "outputs": [
    {
     "name": "stdout",
     "output_type": "stream",
     "text": [
      "Answer No 8:\n",
      "\n",
      "Enter Any Number: 13\n",
      "13 is an odd number\n"
     ]
    }
   ],
   "source": [
    "'''8) Question No 8:\n",
    "      Write a program which take input from user and identify that the given number is even or odd?'''\n",
    "\n",
    "print(\"Answer No 8:\\n\")\n",
    "\n",
    "number = input(\"Enter Any Number: \")\n",
    "chk = int(number) % 2\n",
    "if chk == 0:\n",
    "    print(number, \"is an even number\")\n",
    "else:\n",
    "    print(number, \"is an odd number\")"
   ]
  },
  {
   "cell_type": "code",
   "execution_count": 17,
   "id": "dfeebf9e",
   "metadata": {},
   "outputs": [
    {
     "name": "stdout",
     "output_type": "stream",
     "text": [
      "Answer No 9:\n",
      "\n",
      "Lenght of the List:  10\n"
     ]
    }
   ],
   "source": [
    "'''9) Question No 9:\n",
    "      Write a program which print the length of the list?'''\n",
    "\n",
    "print(\"Answer No 9:\\n\")\n",
    "\n",
    "Mylist=[1,2,5,6,8,0,5,3,2,7]\n",
    "print(\"Lenght of the List: \", len(Mylist))"
   ]
  },
  {
   "cell_type": "code",
   "execution_count": 19,
   "id": "decbebcf",
   "metadata": {},
   "outputs": [
    {
     "name": "stdout",
     "output_type": "stream",
     "text": [
      "Answer No 10:\n",
      "\n",
      "Sum of the List:  39\n"
     ]
    }
   ],
   "source": [
    "''' 10) Question No 10:\n",
    "        Write a Python program to sum all the numeric items in a list?'''\n",
    "\n",
    "print(\"Answer No 10:\\n\")\n",
    "\n",
    "Mylist=[1,2,5,6,8,0,5,3,2,7]\n",
    "print(\"Sum of the List: \", sum(Mylist))"
   ]
  },
  {
   "cell_type": "code",
   "execution_count": 20,
   "id": "56770100",
   "metadata": {},
   "outputs": [
    {
     "name": "stdout",
     "output_type": "stream",
     "text": [
      "Answer No 11:\n",
      "\n",
      "Lenght of the List:  89\n"
     ]
    }
   ],
   "source": [
    "'''11) Question No 11: \n",
    "       Write a Python program to get the largest number from a numeric list.'''\n",
    "\n",
    "\n",
    "print(\"Answer No 11:\\n\")\n",
    "\n",
    "\n",
    "Mylist=[1,2,5,6,89,0,5,3,2,7]\n",
    "\n",
    "print(\"Lenght of the List: \", max(Mylist))\n",
    "\n"
   ]
  },
  {
   "cell_type": "code",
   "execution_count": 21,
   "id": "df391e98",
   "metadata": {},
   "outputs": [
    {
     "name": "stdout",
     "output_type": "stream",
     "text": [
      "Answer No 12:\n",
      "\n",
      "1\n",
      "1\n",
      "2\n",
      "3\n"
     ]
    }
   ],
   "source": [
    "'''12) Question No 12:\n",
    "    Take a list, say for example this one:\n",
    "    a = [1, 1, 2, 3, 5, 8, 13, 21, 34, 55, 89]\n",
    "    Write a program that prints out all the elements of the list that are less than 5'''\n",
    "\n",
    "print(\"Answer No 12:\\n\")\n",
    "\n",
    "\n",
    "a = [1, 1, 2, 3, 5, 8, 13, 21, 34, 55, 89]\n",
    "for i in a:\n",
    "    if i < 5:\n",
    "        print(i)\n",
    "        "
   ]
  },
  {
   "cell_type": "code",
   "execution_count": null,
   "id": "d0b0f8b8",
   "metadata": {},
   "outputs": [],
   "source": []
  }
 ],
 "metadata": {
  "kernelspec": {
   "display_name": "Python 3",
   "language": "python",
   "name": "python3"
  },
  "language_info": {
   "codemirror_mode": {
    "name": "ipython",
    "version": 3
   },
   "file_extension": ".py",
   "mimetype": "text/x-python",
   "name": "python",
   "nbconvert_exporter": "python",
   "pygments_lexer": "ipython3",
   "version": "3.8.8"
  }
 },
 "nbformat": 4,
 "nbformat_minor": 5
}
